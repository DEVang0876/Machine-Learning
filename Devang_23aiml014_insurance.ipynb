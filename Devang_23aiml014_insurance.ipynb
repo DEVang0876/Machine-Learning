{
 "cells": [
  {
   "cell_type": "code",
   "execution_count": null,
   "id": "3d65d79d",
   "metadata": {},
   "outputs": [],
   "source": [
    "# Health Insurance Premium Prediction Project\n",
    "\n",
    "## Project Overview\n",
    "This project aims to predict health insurance premiums using Ordinary Least Squares (OLS) regression with comprehensive feature engineering and selection techniques including:\n",
    "- Variance Inflation Factor (VIF) analysis for multicollinearity detection\n",
    "- Correlation analysis for feature selection\n",
    "- Feature engineering to improve model performance\n",
    "\n",
    "## Dataset\n",
    "The dataset contains health insurance information with features like age, sex, BMI, children, smoker status, region, and insurance charges.\n",
    "\n",
    "## Methodology\n",
    "1. **Data Exploration and Preprocessing**\n",
    "2. **Feature Engineering**\n",
    "3. **Feature Selection using Correlation and VIF**\n",
    "4. **OLS Model Implementation**\n",
    "5. **Model Evaluation and Diagnostics**"
   ]
  },
  {
   "cell_type": "code",
   "execution_count": null,
   "id": "c0f18c73",
   "metadata": {},
   "outputs": [],
   "source": [
    "# Import necessary libraries for data manipulation, visualization, and modeling\n",
    "import pandas as pd\n",
    "import numpy as np\n",
    "import matplotlib.pyplot as plt\n",
    "import seaborn as sns\n",
    "from sklearn.model_selection import train_test_split\n",
    "from sklearn.preprocessing import LabelEncoder, StandardScaler\n",
    "from sklearn.linear_model import LinearRegression\n",
    "from sklearn.metrics import mean_squared_error, r2_score, mean_absolute_error\n",
    "from statsmodels.stats.outliers_influence import variance_inflation_factor\n",
    "import statsmodels.api as sm\n",
    "import warnings\n",
    "warnings.filterwarnings('ignore')\n",
    "\n",
    "# Set plotting style\n",
    "plt.style.use('seaborn-v0_8')\n",
    "sns.set_palette(\"husl\")"
   ]
  },
  {
   "cell_type": "code",
   "execution_count": null,
   "id": "db6efc92",
   "metadata": {},
   "outputs": [],
   "source": [
    "# Load the insurance dataset\n",
    "df = pd.read_csv('insurance.csv')\n",
    "\n",
    "# Display basic information about the dataset\n",
    "print(\"Dataset Shape:\", df.shape)\n",
    "print(\"\\nFirst 5 rows:\")\n",
    "print(df.head())\n",
    "print(\"\\nDataset Info:\")\n",
    "print(df.info())\n",
    "print(\"\\nSummary Statistics:\")\n",
    "print(df.describe())"
   ]
  }
 ],
 "metadata": {
  "language_info": {
   "name": "python"
  }
 },
 "nbformat": 4,
 "nbformat_minor": 5
}
